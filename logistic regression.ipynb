{
 "cells": [
  {
   "cell_type": "markdown",
   "metadata": {},
   "source": [
    "# Introduction to logistic regression\n",
    "Logistic regression is one of the most basic and popular machine learning algorithms used to predict the probability of a class and classify given the values of different independent predictor variables.\n",
    "The dependent variable (Y) is binary ,that is,it can take only two possible values 0 or 1. Example:If the objective is to determine  "
   ]
  },
  {
   "cell_type": "code",
   "execution_count": 1,
   "metadata": {},
   "outputs": [
    {
     "name": "stderr",
     "output_type": "stream",
     "text": [
      "\u001b[32m\u001b[1m   Updating\u001b[22m\u001b[39m registry at `~/.julia/registries/General`\n",
      "######################################################################### 100.0%\n",
      "\u001b[32m\u001b[1m  Resolving\u001b[22m\u001b[39m package versions...\n",
      "\u001b[32m\u001b[1mUpdating\u001b[22m\u001b[39m `~/.julia/environments/v1.5/Project.toml`\n",
      " \u001b[90m [2913bbd2] \u001b[39m\u001b[92m+ StatsBase v0.33.5\u001b[39m\n",
      "\u001b[32m\u001b[1mNo Changes\u001b[22m\u001b[39m to `~/.julia/environments/v1.5/Manifest.toml`\n",
      "\u001b[32m\u001b[1m  Resolving\u001b[22m\u001b[39m package versions...\n",
      "\u001b[32m\u001b[1m  Installed\u001b[22m\u001b[39m Lathe ────────────────── v0.0.9\n",
      "\u001b[32m\u001b[1m  Installed\u001b[22m\u001b[39m KernelDensity ────────── v0.5.1\n",
      "\u001b[32m\u001b[1m  Installed\u001b[22m\u001b[39m PositiveFactorizations ─ v0.2.4\n",
      "\u001b[32m\u001b[1m  Installed\u001b[22m\u001b[39m FillArrays ───────────── v0.8.14\n",
      "\u001b[32m\u001b[1m  Installed\u001b[22m\u001b[39m ClassImbalance ───────── v0.8.7\n",
      "\u001b[32m\u001b[1m  Installed\u001b[22m\u001b[39m StatsBase ────────────── v0.32.2\n",
      "\u001b[32m\u001b[1m  Installed\u001b[22m\u001b[39m Optim ────────────────── v0.22.0\n",
      "\u001b[32m\u001b[1m  Installed\u001b[22m\u001b[39m DataFrames ───────────── v0.20.2\n",
      "\u001b[32m\u001b[1m  Installed\u001b[22m\u001b[39m PDMats ───────────────── v0.9.12\n",
      "\u001b[32m\u001b[1m  Installed\u001b[22m\u001b[39m NLSolversBase ────────── v7.5.0\n",
      "\u001b[32m\u001b[1m  Installed\u001b[22m\u001b[39m Tables ───────────────── v1.4.2\n",
      "\u001b[32m\u001b[1m  Installed\u001b[22m\u001b[39m Parameters ───────────── v0.12.2\n",
      "\u001b[32m\u001b[1m  Installed\u001b[22m\u001b[39m ArrayInterface ───────── v2.14.17\n",
      "\u001b[32m\u001b[1m  Installed\u001b[22m\u001b[39m DiffResults ──────────── v1.0.3\n",
      "\u001b[32m\u001b[1m  Installed\u001b[22m\u001b[39m UnPack ───────────────── v1.0.2\n",
      "\u001b[32m\u001b[1m  Installed\u001b[22m\u001b[39m DataStructures ───────── v0.17.20\n",
      "\u001b[32m\u001b[1m  Installed\u001b[22m\u001b[39m LineSearches ─────────── v7.1.1\n",
      "\u001b[32m\u001b[1m  Installed\u001b[22m\u001b[39m ForwardDiff ──────────── v0.10.18\n",
      "\u001b[32m\u001b[1m  Installed\u001b[22m\u001b[39m DiffEqDiffTools ──────── v1.7.0\n",
      "\u001b[32m\u001b[1m  Installed\u001b[22m\u001b[39m CommonSubexpressions ─── v0.3.0\n",
      "\u001b[32m\u001b[1m  Installed\u001b[22m\u001b[39m Calculus ─────────────── v0.5.1\n",
      "\u001b[32m\u001b[1m  Installed\u001b[22m\u001b[39m ColorSchemes ─────────── v3.12.0\n",
      "\u001b[32m\u001b[1m  Installed\u001b[22m\u001b[39m SpecialFunctions ─────── v0.10.3\n",
      "\u001b[32m\u001b[1m  Installed\u001b[22m\u001b[39m CategoricalArrays ────── v0.7.7\n",
      "\u001b[32m\u001b[1m  Installed\u001b[22m\u001b[39m DiffRules ────────────── v1.0.2\n",
      "\u001b[32m\u001b[1m  Installed\u001b[22m\u001b[39m StaticArrays ─────────── v0.12.5\n",
      "\u001b[32m\u001b[1m  Installed\u001b[22m\u001b[39m PooledArrays ─────────── v0.5.3\n",
      "\u001b[32m\u001b[1m  Installed\u001b[22m\u001b[39m Distributions ────────── v0.22.6\n",
      "\u001b[32m\u001b[1m  Installed\u001b[22m\u001b[39m GR ───────────────────── v0.57.4\n",
      "\u001b[32m\u001b[1m  Installed\u001b[22m\u001b[39m Interpolations ───────── v0.12.10\n",
      "\u001b[32m\u001b[1mUpdating\u001b[22m\u001b[39m `~/.julia/environments/v1.5/Project.toml`\n",
      " \u001b[90m [04a18a73] \u001b[39m\u001b[92m+ ClassImbalance v0.8.7\u001b[39m\n",
      " \u001b[90m [a93c6f00] \u001b[39m\u001b[95m↓ DataFrames v0.22.7 ⇒ v0.20.2\u001b[39m\n",
      " \u001b[90m [38d8eb38] \u001b[39m\u001b[95m↓ Lathe v0.1.7 ⇒ v0.0.9\u001b[39m\n",
      " \u001b[90m [2913bbd2] \u001b[39m\u001b[95m↓ StatsBase v0.33.5 ⇒ v0.32.2\u001b[39m\n",
      "\u001b[32m\u001b[1mUpdating\u001b[22m\u001b[39m `~/.julia/environments/v1.5/Manifest.toml`\n",
      " \u001b[90m [4fba245c] \u001b[39m\u001b[92m+ ArrayInterface v2.14.17\u001b[39m\n",
      " \u001b[90m [ab4f0b2a] \u001b[39m\u001b[91m- BFloat16s v0.1.0\u001b[39m\n",
      " \u001b[90m [fa961155] \u001b[39m\u001b[91m- CEnum v0.4.1\u001b[39m\n",
      " \u001b[90m [052768ef] \u001b[39m\u001b[91m- CUDA v2.4.3\u001b[39m\n",
      " \u001b[90m [49dc2e85] \u001b[39m\u001b[92m+ Calculus v0.5.1\u001b[39m\n",
      " \u001b[90m [324d7699] \u001b[39m\u001b[95m↓ CategoricalArrays v0.9.5 ⇒ v0.7.7\u001b[39m\n",
      " \u001b[90m [d360d2e6] \u001b[39m\u001b[91m- ChainRulesCore v0.9.37\u001b[39m\n",
      " \u001b[90m [04a18a73] \u001b[39m\u001b[92m+ ClassImbalance v0.8.7\u001b[39m\n",
      " \u001b[90m [35d6a980] \u001b[39m\u001b[93m↑ ColorSchemes v3.11.0 ⇒ v3.12.0\u001b[39m\n",
      " \u001b[90m [bbf7d656] \u001b[39m\u001b[92m+ CommonSubexpressions v0.3.0\u001b[39m\n",
      " \u001b[90m [a8cc5b0e] \u001b[39m\u001b[91m- Crayons v4.0.4\u001b[39m\n",
      " \u001b[90m [a93c6f00] \u001b[39m\u001b[95m↓ DataFrames v0.22.7 ⇒ v0.20.2\u001b[39m\n",
      " \u001b[90m [864edb3b] \u001b[39m\u001b[95m↓ DataStructures v0.18.9 ⇒ v0.17.20\u001b[39m\n",
      " \u001b[90m [01453d9d] \u001b[39m\u001b[92m+ DiffEqDiffTools v1.7.0\u001b[39m\n",
      " \u001b[90m [163ba53b] \u001b[39m\u001b[92m+ DiffResults v1.0.3\u001b[39m\n",
      " \u001b[90m [b552c78f] \u001b[39m\u001b[92m+ DiffRules v1.0.2\u001b[39m\n",
      " \u001b[90m [31c24e10] \u001b[39m\u001b[95m↓ Distributions v0.24.15 ⇒ v0.22.6\u001b[39m\n",
      " \u001b[90m [ffbed154] \u001b[39m\u001b[91m- DocStringExtensions v0.8.4\u001b[39m\n",
      " \u001b[90m [e2ba6199] \u001b[39m\u001b[91m- ExprTools v0.1.3\u001b[39m\n",
      " \u001b[90m [1a297f60] \u001b[39m\u001b[95m↓ FillArrays v0.11.7 ⇒ v0.8.14\u001b[39m\n",
      " \u001b[90m [f6369f11] \u001b[39m\u001b[92m+ ForwardDiff v0.10.18\u001b[39m\n",
      " \u001b[90m [0c68f7d7] \u001b[39m\u001b[91m- GPUArrays v6.2.2\u001b[39m\n",
      " \u001b[90m [61eb1bfa] \u001b[39m\u001b[91m- GPUCompiler v0.8.3\u001b[39m\n",
      " \u001b[90m [28b8d3ca] \u001b[39m\u001b[93m↑ GR v0.57.3 ⇒ v0.57.4\u001b[39m\n",
      " \u001b[90m [a98d9a8b] \u001b[39m\u001b[95m↓ Interpolations v0.13.1 ⇒ v0.12.10\u001b[39m\n",
      " \u001b[90m [5ab0869b] \u001b[39m\u001b[95m↓ KernelDensity v0.6.2 ⇒ v0.5.1\u001b[39m\n",
      " \u001b[90m [929cbde3] \u001b[39m\u001b[91m- LLVM v3.6.0\u001b[39m\n",
      " \u001b[90m [38d8eb38] \u001b[39m\u001b[95m↓ Lathe v0.1.7 ⇒ v0.0.9\u001b[39m\n",
      " \u001b[90m [d3d80556] \u001b[39m\u001b[92m+ LineSearches v7.1.1\u001b[39m\n",
      " \u001b[90m [d41bc354] \u001b[39m\u001b[92m+ NLSolversBase v7.5.0\u001b[39m\n",
      " \u001b[90m [872c559c] \u001b[39m\u001b[91m- NNlib v0.7.18\u001b[39m\n",
      " \u001b[90m [429524aa] \u001b[39m\u001b[92m+ Optim v0.22.0\u001b[39m\n",
      " \u001b[90m [90014a1f] \u001b[39m\u001b[95m↓ PDMats v0.11.0 ⇒ v0.9.12\u001b[39m\n",
      " \u001b[90m [d96e819e] \u001b[39m\u001b[92m+ Parameters v0.12.2\u001b[39m\n",
      " \u001b[90m [2dfb63ee] \u001b[39m\u001b[95m↓ PooledArrays v1.2.1 ⇒ v0.5.3\u001b[39m\n",
      " \u001b[90m [85a6dd25] \u001b[39m\u001b[92m+ PositiveFactorizations v0.2.4\u001b[39m\n",
      " \u001b[90m [08abe8d2] \u001b[39m\u001b[91m- PrettyTables v0.11.1\u001b[39m\n",
      " \u001b[90m [276daf66] \u001b[39m\u001b[95m↓ SpecialFunctions v1.3.0 ⇒ v0.10.3\u001b[39m\n",
      " \u001b[90m [90137ffa] \u001b[39m\u001b[95m↓ StaticArrays v1.1.0 ⇒ v0.12.5\u001b[39m\n",
      " \u001b[90m [2913bbd2] \u001b[39m\u001b[95m↓ StatsBase v0.33.5 ⇒ v0.32.2\u001b[39m\n",
      " \u001b[90m [856f2bd8] \u001b[39m\u001b[91m- StructTypes v1.5.2\u001b[39m\n",
      " \u001b[90m [bd369af6] \u001b[39m\u001b[93m↑ Tables v1.4.1 ⇒ v1.4.2\u001b[39m\n",
      " \u001b[90m [a759f4b9] \u001b[39m\u001b[91m- TimerOutputs v0.5.8\u001b[39m\n",
      " \u001b[90m [3a884ed6] \u001b[39m\u001b[92m+ UnPack v1.0.2\u001b[39m\n",
      "\u001b[32m\u001b[1m   Building\u001b[22m\u001b[39m GR → `~/.julia/packages/GR/Hsil0/deps/build.log`\n",
      "\u001b[32m\u001b[1m  Resolving\u001b[22m\u001b[39m package versions...\n",
      "\u001b[32m\u001b[1m  Installed\u001b[22m\u001b[39m ROCAnalysis ─ v0.3.2\n",
      "\u001b[32m\u001b[1mUpdating\u001b[22m\u001b[39m `~/.julia/environments/v1.5/Project.toml`\n",
      " \u001b[90m [f535d66d] \u001b[39m\u001b[92m+ ROCAnalysis v0.3.2\u001b[39m\n",
      "\u001b[32m\u001b[1mUpdating\u001b[22m\u001b[39m `~/.julia/environments/v1.5/Manifest.toml`\n",
      " \u001b[90m [f535d66d] \u001b[39m\u001b[92m+ ROCAnalysis v0.3.2\u001b[39m\n",
      "┌ Info: Precompiling DataFrames [a93c6f00-e57d-5684-b7b6-d8193f3e46c0]\n",
      "└ @ Base loading.jl:1278\n",
      "┌ Info: Precompiling CSV [336ed68f-0bac-5ca0-87d4-7b16caf5d00b]\n",
      "└ @ Base loading.jl:1278\n",
      "┌ Info: Precompiling Plots [91a5bcdd-55d7-5caf-9e0b-520d859cae80]\n",
      "└ @ Base loading.jl:1278\n",
      "┌ Info: Precompiling GLM [38e38edf-8417-5370-95a0-9cbb8c7f171a]\n",
      "└ @ Base loading.jl:1278\n",
      "┌ Info: Precompiling Lathe [38d8eb38-e7b1-11e9-0012-376b6c802672]\n",
      "└ @ Base loading.jl:1278\n",
      "┌ Info: Precompiling MLBase [f0e99cf1-93fa-52ec-9ecc-5026115318e0]\n",
      "└ @ Base loading.jl:1278\n",
      "┌ Info: Precompiling ClassImbalance [04a18a73-7590-580c-b363-eeca0919eb2a]\n",
      "└ @ Base loading.jl:1278\n",
      "┌ Info: Precompiling ROCAnalysis [f535d66d-59bb-5153-8d2b-ef0a426c6aff]\n",
      "└ @ Base loading.jl:1278\n"
     ]
    },
    {
     "data": {
      "text/plain": [
       "1000"
      ]
     },
     "execution_count": 1,
     "metadata": {},
     "output_type": "execute_result"
    }
   ],
   "source": [
    "using Pkg\n",
    "Pkg.add(\"StatsBase\")\n",
    "Pkg.add(\"ClassImbalance\")\n",
    "Pkg.add(\"ROCAnalysis\")\n",
    "using Pkg\n",
    "using DataFrames\n",
    "using CSV\n",
    "using Plots\n",
    "using GLM\n",
    "using StatsBase\n",
    "using Lathe\n",
    "using MLBase\n",
    "using ClassImbalance\n",
    "using ROCAnalysis\n",
    "#enable printing of 1000 columns\n",
    "\n",
    "ENV[\"COLUMNS\"] = 1000 \n"
   ]
  },
  {
   "cell_type": "code",
   "execution_count": 2,
   "metadata": {},
   "outputs": [
    {
     "data": {
      "text/html": [
       "<table class=\"data-frame\"><thead><tr><th></th><th>RowNumber</th><th>CustomerId</th><th>Surname</th><th>CreditScore</th><th>Geography</th><th>Gender</th><th>Age</th><th>Tenure</th><th>Balance</th><th>NumOfProducts</th><th>HasCrCard</th><th>IsActiveMember</th><th>EstimatedSalary</th><th>Exited</th></tr><tr><th></th><th>Int64</th><th>Int64</th><th>String</th><th>Int64</th><th>String</th><th>String</th><th>Int64</th><th>Int64</th><th>Float64</th><th>Int64</th><th>Int64</th><th>Int64</th><th>Float64</th><th>Int64</th></tr></thead><tbody><p>5 rows × 14 columns</p><tr><th>1</th><td>1</td><td>15634602</td><td>Hargrave</td><td>619</td><td>France</td><td>Female</td><td>42</td><td>2</td><td>0.0</td><td>1</td><td>1</td><td>1</td><td>1.01349e5</td><td>1</td></tr><tr><th>2</th><td>2</td><td>15647311</td><td>Hill</td><td>608</td><td>Spain</td><td>Female</td><td>41</td><td>1</td><td>83807.9</td><td>1</td><td>0</td><td>1</td><td>1.12543e5</td><td>0</td></tr><tr><th>3</th><td>3</td><td>15619304</td><td>Onio</td><td>502</td><td>France</td><td>Female</td><td>42</td><td>8</td><td>1.59661e5</td><td>3</td><td>1</td><td>0</td><td>1.13932e5</td><td>1</td></tr><tr><th>4</th><td>4</td><td>15701354</td><td>Boni</td><td>699</td><td>France</td><td>Female</td><td>39</td><td>1</td><td>0.0</td><td>2</td><td>0</td><td>0</td><td>93826.6</td><td>0</td></tr><tr><th>5</th><td>5</td><td>15737888</td><td>Mitchell</td><td>850</td><td>Spain</td><td>Female</td><td>43</td><td>2</td><td>1.25511e5</td><td>1</td><td>1</td><td>1</td><td>79084.1</td><td>0</td></tr></tbody></table>"
      ],
      "text/latex": [
       "\\begin{tabular}{r|cccccccccccccc}\n",
       "\t& RowNumber & CustomerId & Surname & CreditScore & Geography & Gender & Age & Tenure & Balance & NumOfProducts & HasCrCard & IsActiveMember & EstimatedSalary & Exited\\\\\n",
       "\t\\hline\n",
       "\t& Int64 & Int64 & String & Int64 & String & String & Int64 & Int64 & Float64 & Int64 & Int64 & Int64 & Float64 & Int64\\\\\n",
       "\t\\hline\n",
       "\t1 & 1 & 15634602 & Hargrave & 619 & France & Female & 42 & 2 & 0.0 & 1 & 1 & 1 & 1.01349e5 & 1 \\\\\n",
       "\t2 & 2 & 15647311 & Hill & 608 & Spain & Female & 41 & 1 & 83807.9 & 1 & 0 & 1 & 1.12543e5 & 0 \\\\\n",
       "\t3 & 3 & 15619304 & Onio & 502 & France & Female & 42 & 8 & 1.59661e5 & 3 & 1 & 0 & 1.13932e5 & 1 \\\\\n",
       "\t4 & 4 & 15701354 & Boni & 699 & France & Female & 39 & 1 & 0.0 & 2 & 0 & 0 & 93826.6 & 0 \\\\\n",
       "\t5 & 5 & 15737888 & Mitchell & 850 & Spain & Female & 43 & 2 & 1.25511e5 & 1 & 1 & 1 & 79084.1 & 0 \\\\\n",
       "\\end{tabular}\n"
      ],
      "text/plain": [
       "5×14 DataFrame\n",
       "│ Row │ RowNumber │ CustomerId │ Surname  │ CreditScore │ Geography │ Gender │ Age   │ Tenure │ Balance   │ NumOfProducts │ HasCrCard │ IsActiveMember │ EstimatedSalary │ Exited │\n",
       "│     │ \u001b[90mInt64\u001b[39m     │ \u001b[90mInt64\u001b[39m      │ \u001b[90mString\u001b[39m   │ \u001b[90mInt64\u001b[39m       │ \u001b[90mString\u001b[39m    │ \u001b[90mString\u001b[39m │ \u001b[90mInt64\u001b[39m │ \u001b[90mInt64\u001b[39m  │ \u001b[90mFloat64\u001b[39m   │ \u001b[90mInt64\u001b[39m         │ \u001b[90mInt64\u001b[39m     │ \u001b[90mInt64\u001b[39m          │ \u001b[90mFloat64\u001b[39m         │ \u001b[90mInt64\u001b[39m  │\n",
       "├─────┼───────────┼────────────┼──────────┼─────────────┼───────────┼────────┼───────┼────────┼───────────┼───────────────┼───────────┼────────────────┼─────────────────┼────────┤\n",
       "│ 1   │ 1         │ 15634602   │ Hargrave │ 619         │ France    │ Female │ 42    │ 2      │ 0.0       │ 1             │ 1         │ 1              │ 1.01349e5       │ 1      │\n",
       "│ 2   │ 2         │ 15647311   │ Hill     │ 608         │ Spain     │ Female │ 41    │ 1      │ 83807.9   │ 1             │ 0         │ 1              │ 1.12543e5       │ 0      │\n",
       "│ 3   │ 3         │ 15619304   │ Onio     │ 502         │ France    │ Female │ 42    │ 8      │ 1.59661e5 │ 3             │ 1         │ 0              │ 1.13932e5       │ 1      │\n",
       "│ 4   │ 4         │ 15701354   │ Boni     │ 699         │ France    │ Female │ 39    │ 1      │ 0.0       │ 2             │ 0         │ 0              │ 93826.6         │ 0      │\n",
       "│ 5   │ 5         │ 15737888   │ Mitchell │ 850         │ Spain     │ Female │ 43    │ 2      │ 1.25511e5 │ 1             │ 1         │ 1              │ 79084.1         │ 0      │"
      ]
     },
     "execution_count": 2,
     "metadata": {},
     "output_type": "execute_result"
    }
   ],
   "source": [
    "#Read the file using CSV.File and convert it to dataframe\n",
    "df = DataFrame(CSV.File(\"Churn_Modelling.csv\"))\n",
    "first(df,5)"
   ]
  },
  {
   "cell_type": "code",
   "execution_count": 5,
   "metadata": {},
   "outputs": [
    {
     "name": "stdout",
     "output_type": "stream",
     "text": [
      "(10000, 14)\n"
     ]
    },
    {
     "data": {
      "text/html": [
       "<table class=\"data-frame\"><thead><tr><th></th><th>variable</th><th>mean</th><th>min</th><th>median</th><th>max</th><th>nunique</th><th>nmissing</th><th>eltype</th></tr><tr><th></th><th>Symbol</th><th>Union…</th><th>Any</th><th>Union…</th><th>Any</th><th>Union…</th><th>Nothing</th><th>DataType</th></tr></thead><tbody><p>14 rows × 8 columns</p><tr><th>1</th><td>RowNumber</td><td>5000.5</td><td>1</td><td>5000.5</td><td>10000</td><td></td><td></td><td>Int64</td></tr><tr><th>2</th><td>CustomerId</td><td>1.56909e7</td><td>15565701</td><td>1.56907e7</td><td>15815690</td><td></td><td></td><td>Int64</td></tr><tr><th>3</th><td>Surname</td><td></td><td>Abazu</td><td></td><td>Zuyeva</td><td>2932</td><td></td><td>String</td></tr><tr><th>4</th><td>CreditScore</td><td>650.529</td><td>350</td><td>652.0</td><td>850</td><td></td><td></td><td>Int64</td></tr><tr><th>5</th><td>Geography</td><td></td><td>France</td><td></td><td>Spain</td><td>3</td><td></td><td>String</td></tr><tr><th>6</th><td>Gender</td><td></td><td>Female</td><td></td><td>Male</td><td>2</td><td></td><td>String</td></tr><tr><th>7</th><td>Age</td><td>38.9218</td><td>18</td><td>37.0</td><td>92</td><td></td><td></td><td>Int64</td></tr><tr><th>8</th><td>Tenure</td><td>5.0128</td><td>0</td><td>5.0</td><td>10</td><td></td><td></td><td>Int64</td></tr><tr><th>9</th><td>Balance</td><td>76485.9</td><td>0.0</td><td>97198.5</td><td>2.50898e5</td><td></td><td></td><td>Float64</td></tr><tr><th>10</th><td>NumOfProducts</td><td>1.5302</td><td>1</td><td>1.0</td><td>4</td><td></td><td></td><td>Int64</td></tr><tr><th>11</th><td>HasCrCard</td><td>0.7055</td><td>0</td><td>1.0</td><td>1</td><td></td><td></td><td>Int64</td></tr><tr><th>12</th><td>IsActiveMember</td><td>0.5151</td><td>0</td><td>1.0</td><td>1</td><td></td><td></td><td>Int64</td></tr><tr><th>13</th><td>EstimatedSalary</td><td>1.0009e5</td><td>11.58</td><td>1.00194e5</td><td>1.99992e5</td><td></td><td></td><td>Float64</td></tr><tr><th>14</th><td>Exited</td><td>0.2037</td><td>0</td><td>0.0</td><td>1</td><td></td><td></td><td>Int64</td></tr></tbody></table>"
      ],
      "text/latex": [
       "\\begin{tabular}{r|cccccccc}\n",
       "\t& variable & mean & min & median & max & nunique & nmissing & eltype\\\\\n",
       "\t\\hline\n",
       "\t& Symbol & Union… & Any & Union… & Any & Union… & Nothing & DataType\\\\\n",
       "\t\\hline\n",
       "\t1 & RowNumber & 5000.5 & 1 & 5000.5 & 10000 &  &  & Int64 \\\\\n",
       "\t2 & CustomerId & 1.56909e7 & 15565701 & 1.56907e7 & 15815690 &  &  & Int64 \\\\\n",
       "\t3 & Surname &  & Abazu &  & Zuyeva & 2932 &  & String \\\\\n",
       "\t4 & CreditScore & 650.529 & 350 & 652.0 & 850 &  &  & Int64 \\\\\n",
       "\t5 & Geography &  & France &  & Spain & 3 &  & String \\\\\n",
       "\t6 & Gender &  & Female &  & Male & 2 &  & String \\\\\n",
       "\t7 & Age & 38.9218 & 18 & 37.0 & 92 &  &  & Int64 \\\\\n",
       "\t8 & Tenure & 5.0128 & 0 & 5.0 & 10 &  &  & Int64 \\\\\n",
       "\t9 & Balance & 76485.9 & 0.0 & 97198.5 & 2.50898e5 &  &  & Float64 \\\\\n",
       "\t10 & NumOfProducts & 1.5302 & 1 & 1.0 & 4 &  &  & Int64 \\\\\n",
       "\t11 & HasCrCard & 0.7055 & 0 & 1.0 & 1 &  &  & Int64 \\\\\n",
       "\t12 & IsActiveMember & 0.5151 & 0 & 1.0 & 1 &  &  & Int64 \\\\\n",
       "\t13 & EstimatedSalary & 1.0009e5 & 11.58 & 1.00194e5 & 1.99992e5 &  &  & Float64 \\\\\n",
       "\t14 & Exited & 0.2037 & 0 & 0.0 & 1 &  &  & Int64 \\\\\n",
       "\\end{tabular}\n"
      ],
      "text/plain": [
       "14×8 DataFrame\n",
       "│ Row │ variable        │ mean      │ min      │ median    │ max       │ nunique │ nmissing │ eltype   │\n",
       "│     │ \u001b[90mSymbol\u001b[39m          │ \u001b[90mUnion…\u001b[39m    │ \u001b[90mAny\u001b[39m      │ \u001b[90mUnion…\u001b[39m    │ \u001b[90mAny\u001b[39m       │ \u001b[90mUnion…\u001b[39m  │ \u001b[90mNothing\u001b[39m  │ \u001b[90mDataType\u001b[39m │\n",
       "├─────┼─────────────────┼───────────┼──────────┼───────────┼───────────┼─────────┼──────────┼──────────┤\n",
       "│ 1   │ RowNumber       │ 5000.5    │ 1        │ 5000.5    │ 10000     │         │          │ Int64    │\n",
       "│ 2   │ CustomerId      │ 1.56909e7 │ 15565701 │ 1.56907e7 │ 15815690  │         │          │ Int64    │\n",
       "│ 3   │ Surname         │           │ Abazu    │           │ Zuyeva    │ 2932    │          │ String   │\n",
       "│ 4   │ CreditScore     │ 650.529   │ 350      │ 652.0     │ 850       │         │          │ Int64    │\n",
       "│ 5   │ Geography       │           │ France   │           │ Spain     │ 3       │          │ String   │\n",
       "│ 6   │ Gender          │           │ Female   │           │ Male      │ 2       │          │ String   │\n",
       "│ 7   │ Age             │ 38.9218   │ 18       │ 37.0      │ 92        │         │          │ Int64    │\n",
       "│ 8   │ Tenure          │ 5.0128    │ 0        │ 5.0       │ 10        │         │          │ Int64    │\n",
       "│ 9   │ Balance         │ 76485.9   │ 0.0      │ 97198.5   │ 2.50898e5 │         │          │ Float64  │\n",
       "│ 10  │ NumOfProducts   │ 1.5302    │ 1        │ 1.0       │ 4         │         │          │ Int64    │\n",
       "│ 11  │ HasCrCard       │ 0.7055    │ 0        │ 1.0       │ 1         │         │          │ Int64    │\n",
       "│ 12  │ IsActiveMember  │ 0.5151    │ 0        │ 1.0       │ 1         │         │          │ Int64    │\n",
       "│ 13  │ EstimatedSalary │ 1.0009e5  │ 11.58    │ 1.00194e5 │ 1.99992e5 │         │          │ Float64  │\n",
       "│ 14  │ Exited          │ 0.2037    │ 0        │ 0.0       │ 1         │         │          │ Int64    │"
      ]
     },
     "execution_count": 5,
     "metadata": {},
     "output_type": "execute_result"
    }
   ],
   "source": [
    "println(size(df))\n",
    "describe(df)"
   ]
  },
  {
   "cell_type": "code",
   "execution_count": 3,
   "metadata": {},
   "outputs": [
    {
     "data": {
      "text/plain": [
       "14-element Array{Symbol,1}:\n",
       " :RowNumber\n",
       " :CustomerId\n",
       " :Surname\n",
       " :CreditScore\n",
       " :Geography\n",
       " :Gender\n",
       " :Age\n",
       " :Tenure\n",
       " :Balance\n",
       " :NumOfProducts\n",
       " :HasCrCard\n",
       " :IsActiveMember\n",
       " :EstimatedSalary\n",
       " :Exited"
      ]
     },
     "execution_count": 3,
     "metadata": {},
     "output_type": "execute_result"
    }
   ],
   "source": [
    "names(df)"
   ]
  },
  {
   "cell_type": "code",
   "execution_count": 4,
   "metadata": {},
   "outputs": [
    {
     "data": {
      "text/plain": [
       "Dict{Int64,Int64} with 2 entries:\n",
       "  0 => 7963\n",
       "  1 => 2037"
      ]
     },
     "execution_count": 4,
     "metadata": {},
     "output_type": "execute_result"
    }
   ],
   "source": [
    "#Count the classes\n",
    "countmap(df.Exited)\n",
    "#the countmap function counts the number of unique entries in the dataframes column"
   ]
  },
  {
   "cell_type": "markdown",
   "metadata": {},
   "source": [
    "# One Hot Encoding\n",
    "One hot encoding is a process of converting categorical variables into a form (numerical columns) that could be fed into ML algorithms to do a better job in prediction \n",
    "3 categorical columns are present in the dataset. these columns "
   ]
  },
  {
   "cell_type": "code",
   "execution_count": 6,
   "metadata": {},
   "outputs": [
    {
     "data": {
      "text/html": [
       "<table class=\"data-frame\"><thead><tr><th></th><th>CreditScore</th><th>Geography</th><th>Age</th><th>Tenure</th><th>Balance</th><th>NumOfProducts</th><th>HasCrCard</th><th>IsActiveMember</th><th>EstimatedSalary</th><th>Exited</th><th>France</th><th>Spain</th><th>Germany</th><th>Female</th></tr><tr><th></th><th>Int64</th><th>String</th><th>Int64</th><th>Int64</th><th>Float64</th><th>Int64</th><th>Int64</th><th>Int64</th><th>Float64</th><th>Int64</th><th>Bool</th><th>Bool</th><th>Bool</th><th>Bool</th></tr></thead><tbody><p>5 rows × 14 columns</p><tr><th>1</th><td>619</td><td>France</td><td>42</td><td>2</td><td>0.0</td><td>1</td><td>1</td><td>1</td><td>1.01349e5</td><td>1</td><td>1</td><td>0</td><td>0</td><td>1</td></tr><tr><th>2</th><td>608</td><td>Spain</td><td>41</td><td>1</td><td>83807.9</td><td>1</td><td>0</td><td>1</td><td>1.12543e5</td><td>0</td><td>0</td><td>1</td><td>0</td><td>1</td></tr><tr><th>3</th><td>502</td><td>France</td><td>42</td><td>8</td><td>1.59661e5</td><td>3</td><td>1</td><td>0</td><td>1.13932e5</td><td>1</td><td>1</td><td>0</td><td>0</td><td>1</td></tr><tr><th>4</th><td>699</td><td>France</td><td>39</td><td>1</td><td>0.0</td><td>2</td><td>0</td><td>0</td><td>93826.6</td><td>0</td><td>1</td><td>0</td><td>0</td><td>1</td></tr><tr><th>5</th><td>850</td><td>Spain</td><td>43</td><td>2</td><td>1.25511e5</td><td>1</td><td>1</td><td>1</td><td>79084.1</td><td>0</td><td>0</td><td>1</td><td>0</td><td>1</td></tr></tbody></table>"
      ],
      "text/latex": [
       "\\begin{tabular}{r|cccccccccccccc}\n",
       "\t& CreditScore & Geography & Age & Tenure & Balance & NumOfProducts & HasCrCard & IsActiveMember & EstimatedSalary & Exited & France & Spain & Germany & Female\\\\\n",
       "\t\\hline\n",
       "\t& Int64 & String & Int64 & Int64 & Float64 & Int64 & Int64 & Int64 & Float64 & Int64 & Bool & Bool & Bool & Bool\\\\\n",
       "\t\\hline\n",
       "\t1 & 619 & France & 42 & 2 & 0.0 & 1 & 1 & 1 & 1.01349e5 & 1 & 1 & 0 & 0 & 1 \\\\\n",
       "\t2 & 608 & Spain & 41 & 1 & 83807.9 & 1 & 0 & 1 & 1.12543e5 & 0 & 0 & 1 & 0 & 1 \\\\\n",
       "\t3 & 502 & France & 42 & 8 & 1.59661e5 & 3 & 1 & 0 & 1.13932e5 & 1 & 1 & 0 & 0 & 1 \\\\\n",
       "\t4 & 699 & France & 39 & 1 & 0.0 & 2 & 0 & 0 & 93826.6 & 0 & 1 & 0 & 0 & 1 \\\\\n",
       "\t5 & 850 & Spain & 43 & 2 & 1.25511e5 & 1 & 1 & 1 & 79084.1 & 0 & 0 & 1 & 0 & 1 \\\\\n",
       "\\end{tabular}\n"
      ],
      "text/plain": [
       "5×14 DataFrame\n",
       "│ Row │ CreditScore │ Geography │ Age   │ Tenure │ Balance   │ NumOfProducts │ HasCrCard │ IsActiveMember │ EstimatedSalary │ Exited │ France │ Spain │ Germany │ Female │\n",
       "│     │ \u001b[90mInt64\u001b[39m       │ \u001b[90mString\u001b[39m    │ \u001b[90mInt64\u001b[39m │ \u001b[90mInt64\u001b[39m  │ \u001b[90mFloat64\u001b[39m   │ \u001b[90mInt64\u001b[39m         │ \u001b[90mInt64\u001b[39m     │ \u001b[90mInt64\u001b[39m          │ \u001b[90mFloat64\u001b[39m         │ \u001b[90mInt64\u001b[39m  │ \u001b[90mBool\u001b[39m   │ \u001b[90mBool\u001b[39m  │ \u001b[90mBool\u001b[39m    │ \u001b[90mBool\u001b[39m   │\n",
       "├─────┼─────────────┼───────────┼───────┼────────┼───────────┼───────────────┼───────────┼────────────────┼─────────────────┼────────┼────────┼───────┼─────────┼────────┤\n",
       "│ 1   │ 619         │ France    │ 42    │ 2      │ 0.0       │ 1             │ 1         │ 1              │ 1.01349e5       │ 1      │ 1      │ 0     │ 0       │ 1      │\n",
       "│ 2   │ 608         │ Spain     │ 41    │ 1      │ 83807.9   │ 1             │ 0         │ 1              │ 1.12543e5       │ 0      │ 0      │ 1     │ 0       │ 1      │\n",
       "│ 3   │ 502         │ France    │ 42    │ 8      │ 1.59661e5 │ 3             │ 1         │ 0              │ 1.13932e5       │ 1      │ 1      │ 0     │ 0       │ 1      │\n",
       "│ 4   │ 699         │ France    │ 39    │ 1      │ 0.0       │ 2             │ 0         │ 0              │ 93826.6         │ 0      │ 1      │ 0     │ 0       │ 1      │\n",
       "│ 5   │ 850         │ Spain     │ 43    │ 2      │ 1.25511e5 │ 1             │ 1         │ 1              │ 79084.1         │ 0      │ 0      │ 1     │ 0       │ 1      │"
      ]
     },
     "execution_count": 6,
     "metadata": {},
     "output_type": "execute_result"
    }
   ],
   "source": [
    "Lathe.preprocess.OneHotEncode(df,:Geography)\n",
    "Lathe.preprocess.OneHotEncode(df,:Gender)\n",
    "select!(df, Not([:RowNumber, :CustomerId, :Surname, :Gender, :Male]))\n",
    "first(df,5)"
   ]
  },
  {
   "cell_type": "code",
   "execution_count": 8,
   "metadata": {},
   "outputs": [],
   "source": [
    "using Lathe.preprocess: TrainTestSplit\n",
    "train, test = TrainTestSplit(df,.75);"
   ]
  },
  {
   "cell_type": "code",
   "execution_count": 10,
   "metadata": {},
   "outputs": [
    {
     "data": {
      "text/plain": [
       "StatsModels.TableRegressionModel{GeneralizedLinearModel{GLM.GlmResp{Array{Float64,1},Binomial{Float64},ProbitLink},GLM.DensePredChol{Float64,LinearAlgebra.Cholesky{Float64,Array{Float64,2}}}},Array{Float64,2}}\n",
       "\n",
       "Exited ~ 1 + CreditScore + Age + Tenure + Balance + NumOfProducts + HasCrCard + IsActiveMember + EstimatedSalary + Female + France + Spain\n",
       "\n",
       "Coefficients:\n",
       "─────────────────────────────────────────────────────────────────────────────────────\n",
       "                       Coef.  Std. Error       z  Pr(>|z|)     Lower 95%    Upper 95%\n",
       "─────────────────────────────────────────────────────────────────────────────────────\n",
       "(Intercept)      -1.86359     0.168688    -11.05    <1e-27  -2.19422      -1.53297\n",
       "CreditScore      -0.00041384  0.00018556   -2.23    0.0257  -0.000777531  -5.01501e-5\n",
       "Age               0.0416653   0.00169614   24.56    <1e-99   0.0383409     0.0449897\n",
       "Tenure           -0.00466681  0.00621166   -0.75    0.4525  -0.0168414     0.00750783\n",
       "Balance           1.67258e-6  3.37154e-7    4.96    <1e-6    1.01177e-6    2.33339e-6\n",
       "NumOfProducts    -0.067722    0.0318278    -2.13    0.0334  -0.130103     -0.00534062\n",
       "HasCrCard        -0.0160046   0.0391347    -0.41    0.6826  -0.0927071     0.0606979\n",
       "IsActiveMember   -0.56153     0.037131    -15.12    <1e-50  -0.634306     -0.488755\n",
       "EstimatedSalary   1.25251e-7  3.11724e-7    0.40    0.6878  -4.85716e-7    7.36219e-7\n",
       "Female            0.299589    0.0358717     8.35    <1e-16   0.229282      0.369896\n",
       "France           -0.442858    0.0452622    -9.78    <1e-21  -0.53157      -0.354145\n",
       "Spain            -0.400649    0.0521304    -7.69    <1e-13  -0.502823     -0.298475\n",
       "─────────────────────────────────────────────────────────────────────────────────────"
      ]
     },
     "execution_count": 10,
     "metadata": {},
     "output_type": "execute_result"
    }
   ],
   "source": [
    "fm = @formula(Exited ~ CreditScore + Age + Tenure + Balance + NumOfProducts + HasCrCard + IsActiveMember + EstimatedSalary + Female + France + Spain)\n",
    "logit = glm(fm, train, Binomial(), ProbitLink())"
   ]
  },
  {
   "cell_type": "code",
   "execution_count": 11,
   "metadata": {},
   "outputs": [
    {
     "data": {
      "text/plain": [
       "2553-element Array{Union{Missing, Float64},1}:\n",
       " 0.16166540226873832\n",
       " 0.3300210856851292\n",
       " 0.2489955388111412\n",
       " 0.051992624922222924\n",
       " 0.16303633858773486\n",
       " 0.1432134280608055\n",
       " 0.08431562589429441\n",
       " 0.33715902192170877\n",
       " 0.3567413000629249\n",
       " 0.42694002407534465\n",
       " 0.05921422894114073\n",
       " 0.04061726019236213\n",
       " 0.5192273239291169\n",
       " ⋮\n",
       " 0.018837917778999323\n",
       " 0.04864939869721193\n",
       " 0.18456629368330796\n",
       " 0.20502948058211215\n",
       " 0.15507332725345807\n",
       " 0.043811398406759745\n",
       " 0.1493081725538491\n",
       " 0.04330450109157335\n",
       " 0.503374957806429\n",
       " 0.12235443103220423\n",
       " 0.07256228547532302\n",
       " 0.1473354850780677"
      ]
     },
     "execution_count": 11,
     "metadata": {},
     "output_type": "execute_result"
    }
   ],
   "source": [
    "prediction = predict(logit,test)"
   ]
  },
  {
   "cell_type": "code",
   "execution_count": null,
   "metadata": {},
   "outputs": [],
   "source": []
  }
 ],
 "metadata": {
  "kernelspec": {
   "display_name": "Julia 1.5.4",
   "language": "julia",
   "name": "julia-1.5"
  },
  "language_info": {
   "file_extension": ".jl",
   "mimetype": "application/julia",
   "name": "julia",
   "version": "1.5.4"
  }
 },
 "nbformat": 4,
 "nbformat_minor": 4
}
